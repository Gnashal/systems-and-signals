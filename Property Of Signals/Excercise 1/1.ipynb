{
 "cells": [
  {
   "cell_type": "code",
   "execution_count": 13,
   "metadata": {},
   "outputs": [
    {
     "name": "stdout",
     "output_type": "stream",
     "text": [
      "[0.5, 1, 1, 0, 0.0]\n",
      "[0.5, 0, 0, 0, 0.0]\n",
      "Median Filter is not linear\n"
     ]
    }
   ],
   "source": [
    "import statistics as s\n",
    "\n",
    "# y[n] = median(x[n - 1], x[n], x[n+1])\n",
    "\n",
    "def median_filter(x):\n",
    "    y = []\n",
    "    for i in range(len(x)):\n",
    "        if i == 0:\n",
    "            window = [0, x[i], x[i + 1]]\n",
    "        elif i == len(x) - 1:\n",
    "            window = [x[i - 1], x[i], 0]\n",
    "        else:\n",
    "            window = [x[i - 1], x[i], x[i + 1]]\n",
    "        median = s.median(window)\n",
    "        y.append(median)\n",
    "    return y\n",
    "def addArr(x1, x2):\n",
    "    return [a + b for a, b in zip(x1, x2)]\n",
    "\n",
    "def test_linear(y, x):\n",
    "    for num1, num2 in zip(y ,x) :\n",
    "       if num1 != num2 :\n",
    "            return False\n",
    "       else:\n",
    "           return True\n",
    "\n",
    "\n",
    "\n",
    "x1 = [0,0,100,0,0]\n",
    "x2 = [0,1,0,0,0]\n",
    "\n",
    "x3 = addArr(x1 ,x2)\n",
    "\n",
    "# output of median filter from x1 and x2\n",
    "y1 = median_filter(x1)\n",
    "y2 = median_filter(x2)\n",
    "# sum of x1 + x2\n",
    "y3 = median_filter(x3)\n",
    "\n",
    "# sum of median filters\n",
    "y4 = addArr(y1, y2)\n",
    "\n",
    "isLinear = test_linear(y3, y4)\n",
    "\n",
    "print(y3)\n",
    "print(y4)\n",
    "\n",
    "if (isLinear):\n",
    "    print(\"Median Filter is not linear\")\n",
    "else :\n",
    "    print(\"Median Filter is Linear\")\n",
    "\n",
    "\n",
    "\n"
   ]
  },
  {
   "cell_type": "code",
   "execution_count": 9,
   "metadata": {},
   "outputs": [
    {
     "name": "stdout",
     "output_type": "stream",
     "text": [
      "Original output: [0.0, 0, 0, 0, 0.0]\n",
      "Output of shifted input: [0.0, 0, 0, 0, 50.0]\n",
      "Shifted original output: [0, 0.0, 0, 0, 0]\n",
      "System is NOT Time Invariant\n"
     ]
    }
   ],
   "source": [
    "def shift_array(arr, k):\n",
    "    return [0]*k + arr[:-k]\n",
    "\n",
    "# Original input\n",
    "x = [0, 0, 100, 0, 0]\n",
    "# Filter output\n",
    "y = median_filter(x)\n",
    "\n",
    "# Shift input by 1\n",
    "k = 1\n",
    "x_shifted = shift_array(x, k)\n",
    "# Filter output of shifted input\n",
    "y_shifted = median_filter(x_shifted)\n",
    "\n",
    "# Shift the original output by k\n",
    "y_shifted_expected = shift_array(y, k)\n",
    "\n",
    "print(\"Original output:\", y)\n",
    "print(\"Output of shifted input:\", y_shifted)\n",
    "print(\"Shifted original output:\", y_shifted_expected)\n",
    "\n",
    "if y_shifted == y_shifted_expected:\n",
    "    print(\"System is Time Invariant\")\n",
    "else:\n",
    "    print(\"System is NOT Time Invariant\")"
   ]
  },
  {
   "cell_type": "code",
   "execution_count": 10,
   "metadata": {},
   "outputs": [
    {
     "name": "stdout",
     "output_type": "stream",
     "text": [
      "[10, 20, 30, 40, 50]\n",
      "[15.0, 20, 30, 40, 45.0]\n",
      "System is Stable\n"
     ]
    }
   ],
   "source": [
    "def is_bounded(arr, bound=1e6):\n",
    "    return all(abs(x) <= bound for x in arr)\n",
    "\n",
    "# Test input bounded\n",
    "bounded_input = [10, 20, 30, 40, 50]\n",
    "output = median_filter(bounded_input)\n",
    "\n",
    "print(bounded_input)\n",
    "print(output)\n",
    "\n",
    "if is_bounded(output):\n",
    "    print(\"System is Stable\")\n",
    "else:\n",
    "    print(\"System is NOT Stable\")\n"
   ]
  }
 ],
 "metadata": {
  "kernelspec": {
   "display_name": "Python 3",
   "language": "python",
   "name": "python3"
  },
  "language_info": {
   "codemirror_mode": {
    "name": "ipython",
    "version": 3
   },
   "file_extension": ".py",
   "mimetype": "text/x-python",
   "name": "python",
   "nbconvert_exporter": "python",
   "pygments_lexer": "ipython3",
   "version": "3.12.5"
  }
 },
 "nbformat": 4,
 "nbformat_minor": 2
}
